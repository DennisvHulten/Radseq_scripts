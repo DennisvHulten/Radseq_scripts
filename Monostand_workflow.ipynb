{
 "cells": [
  {
   "cell_type": "markdown",
   "id": "afdf1645",
   "metadata": {},
   "source": [
    "# Full Monostand sampling workflow"
   ]
  },
  {
   "cell_type": "code",
   "execution_count": null,
   "id": "b9447249",
   "metadata": {},
   "outputs": [
    {
     "name": "stderr",
     "output_type": "stream",
     "text": [
      "/Users/dvan216/miniconda3/envs/unicorn_env/lib/python3.10/site-packages/tqdm_joblib/__init__.py:4: TqdmWarning: IProgress not found. Please update jupyter and ipywidgets. See https://ipywidgets.readthedocs.io/en/stable/user_install.html\n",
      "  from tqdm.autonotebook import tqdm\n",
      "Matplotlib is building the font cache; this may take a moment.\n"
     ]
    }
   ],
   "source": [
    "### import \n",
    "from unicorn import *\n",
    "import logging\n",
    "\n",
    "# Set up logging to be verbose (INFO)\n",
    "logging.basicConfig(level=logging.INFO)\n",
    "logger = logging.getLogger('unicorn')"
   ]
  },
  {
   "cell_type": "code",
   "execution_count": 2,
   "id": "dbda4dd2",
   "metadata": {},
   "outputs": [],
   "source": [
    "# load in the models\n",
    "pcd = PointCloud(\"/Volumes/dennis/Mexico_2025/Photogrammetry/mex_jic_14012025/mex_jic_14012025_full_RANDOM_SUBSAMPLED.ply\")\n",
    "# if needed, scale and orient the point cloud\n",
    "#pcd.apply_transforms([get_scale_transform(EXAMPLE_SNAKEBAY_SCALE),\n",
    "                      #get_up_vector_transform(EXAMPLE_SNAKEBAY_UP)])\n",
    "#pcd.apply_transform(get_centroid_transform(pcd))\n",
    "#pcd.apply_transform(get_x_axis_coplanar_to_eigenvector_transform(pcd))"
   ]
  },
  {
   "cell_type": "code",
   "execution_count": null,
   "id": "63f654cf",
   "metadata": {},
   "outputs": [],
   "source": [
    "#optional: use markers do determine the area to sample\n",
    "markers = Annotations(\"path/to/markers.json/csv\")\n",
    "#markers.transform_coords(pcd.world_transform)\n",
    "#markers_cattletags = markers.subset_by_prefix('cattletag')\n",
    "bounding_box = markers.get_bounding_box()\n",
    "#generate a point grid\n",
    "grid_points = get_point_intercept_grid_KdTree(pcd, bounding_box, spacing=1, vis=True)"
   ]
  },
  {
   "cell_type": "code",
   "execution_count": null,
   "id": "249da145",
   "metadata": {},
   "outputs": [],
   "source": [
    "#save selected points\n",
    "selected_points = Annotations()\n",
    "selected_points.get_annotations_from_coords(grid_points)\n",
    "selected_points.save(\"selected_points.csv\")\n",
    "\n",
    "#Metashape has a default setup of Label,x,y,z,yaw,pitch,roll but this can be adjusted\n",
    "#in Metashape go to the Reference pane and select import reference > markers"
   ]
  },
  {
   "cell_type": "code",
   "execution_count": null,
   "id": "cf321ce3",
   "metadata": {},
   "outputs": [],
   "source": [
    "#use GUI to score points if needed\n",
    "\n"
   ]
  }
 ],
 "metadata": {
  "kernelspec": {
   "display_name": "unicorn_env",
   "language": "python",
   "name": "python3"
  },
  "language_info": {
   "codemirror_mode": {
    "name": "ipython",
    "version": 3
   },
   "file_extension": ".py",
   "mimetype": "text/x-python",
   "name": "python",
   "nbconvert_exporter": "python",
   "pygments_lexer": "ipython3",
   "version": "3.10.18"
  }
 },
 "nbformat": 4,
 "nbformat_minor": 5
}
